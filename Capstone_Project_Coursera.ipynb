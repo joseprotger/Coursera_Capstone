{
  "nbformat": 4,
  "nbformat_minor": 0,
  "metadata": {
    "colab": {
      "name": "Capstone_Project_Coursera.ipynb",
      "provenance": [],
      "collapsed_sections": [],
      "authorship_tag": "ABX9TyM9fA/WwVkp+Vei12O//qLA",
      "include_colab_link": true
    },
    "kernelspec": {
      "name": "python3",
      "display_name": "Python 3"
    }
  },
  "cells": [
    {
      "cell_type": "markdown",
      "metadata": {
        "id": "view-in-github",
        "colab_type": "text"
      },
      "source": [
        "<a href=\"https://colab.research.google.com/github/joseprotger/Coursera_Capstone/blob/main/Capstone_Project_Coursera.ipynb\" target=\"_parent\"><img src=\"https://colab.research.google.com/assets/colab-badge.svg\" alt=\"Open In Colab\"/></a>"
      ]
    },
    {
      "cell_type": "markdown",
      "metadata": {
        "id": "P4b7yWFgFXSi"
      },
      "source": [
        "# IBM Data Science Professional Certificate\n",
        "## Capstone Project\n",
        "This notebook will be used to develop the IBM Data Science Capstone Project on Coursera:\n",
        "\n",
        "**Battle of the neighborhoods**"
      ]
    },
    {
      "cell_type": "code",
      "metadata": {
        "id": "NHDccIWdE1wQ"
      },
      "source": [
        "import pandas as pd\n",
        "import numpy as np"
      ],
      "execution_count": 2,
      "outputs": []
    },
    {
      "cell_type": "code",
      "metadata": {
        "colab": {
          "base_uri": "https://localhost:8080/"
        },
        "id": "_mgg0MUgFD05",
        "outputId": "6c5ac104-0a56-4c99-8ec9-f07c085030bb"
      },
      "source": [
        "print(\"Hello Capstone Project course!\")"
      ],
      "execution_count": 1,
      "outputs": [
        {
          "output_type": "stream",
          "text": [
            "Hello Capstone Project course!\n"
          ],
          "name": "stdout"
        }
      ]
    }
  ]
}