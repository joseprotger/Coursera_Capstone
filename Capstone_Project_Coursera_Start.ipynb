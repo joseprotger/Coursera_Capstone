{
  "nbformat": 4,
  "nbformat_minor": 0,
  "metadata": {
    "colab": {
      "name": "Capstone_Project_Coursera_Start.ipynb",
      "provenance": [],
      "collapsed_sections": [],
      "authorship_tag": "ABX9TyM9fA/WwVkp+Vei12O//qLA"
    },
    "kernelspec": {
      "name": "python3",
      "display_name": "Python 3"
    }
  },
  "cells": [
    {
      "cell_type": "markdown",
      "metadata": {
        "id": "P4b7yWFgFXSi"
      },
      "source": [
        "# IBM Data Science Professional Certificate\n",
        "## Capstone Project\n",
        "This notebook will be used to develop the IBM Data Science Capstone Project on Coursera:\n",
        "\n",
        "**Battle of the neighborhoods**"
      ]
    },
    {
      "cell_type": "code",
      "metadata": {
        "id": "NHDccIWdE1wQ"
      },
      "source": [
        "import pandas as pd\n",
        "import numpy as np"
      ],
      "execution_count": null,
      "outputs": []
    },
    {
      "cell_type": "code",
      "metadata": {
        "colab": {
          "base_uri": "https://localhost:8080/"
        },
        "id": "_mgg0MUgFD05",
        "outputId": "5857699b-8a8f-458f-8bd4-d43617169731"
      },
      "source": [
        "print(\"Hello Capstone Project course!\")"
      ],
      "execution_count": null,
      "outputs": [
        {
          "output_type": "stream",
          "text": [
            "Hello Capstone Project course!\n"
          ],
          "name": "stdout"
        }
      ]
    }
  ]
}